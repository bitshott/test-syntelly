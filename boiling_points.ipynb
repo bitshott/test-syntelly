{
 "cells": [
  {
   "cell_type": "code",
   "execution_count": 172,
   "id": "4fd1d88a",
   "metadata": {},
   "outputs": [],
   "source": [
    "import pandas as pd\n",
    "import numpy as np\n",
    "import seaborn as sns\n",
    "import scipy\n",
    "import sklearn\n",
    "from matplotlib import pyplot as plt\n",
    "\n",
    "from dataclasses import dataclass\n",
    "from pathlib import Path\n",
    "\n",
    "from datasail.sail import datasail\n",
    "import json\n",
    "import joblib\n",
    "\n",
    "import rdkit\n",
    "\n",
    "\n",
    "from rdkit import RDLogger\n",
    "RDLogger.DisableLog('rdApp.*')"
   ]
  },
  {
   "cell_type": "markdown",
   "id": "9c0b23c3",
   "metadata": {},
   "source": [
    "# Утилитарные классы"
   ]
  },
  {
   "cell_type": "code",
   "execution_count": 161,
   "id": "3fdc713a",
   "metadata": {},
   "outputs": [],
   "source": [
    "@dataclass\n",
    "class Config:\n",
    "    DEVICE: str = 'cuda:0'\n",
    "    DATA_PATH: Path = Path('data/')\n",
    "    N_THREADS: int = 3\n",
    "\n",
    "config = Config()"
   ]
  },
  {
   "cell_type": "markdown",
   "id": "313f6c89",
   "metadata": {},
   "source": [
    "# EDA "
   ]
  },
  {
   "cell_type": "code",
   "execution_count": 149,
   "id": "0de00efc",
   "metadata": {},
   "outputs": [
    {
     "data": {
      "text/html": [
       "<div>\n",
       "<style scoped>\n",
       "    .dataframe tbody tr th:only-of-type {\n",
       "        vertical-align: middle;\n",
       "    }\n",
       "\n",
       "    .dataframe tbody tr th {\n",
       "        vertical-align: top;\n",
       "    }\n",
       "\n",
       "    .dataframe thead th {\n",
       "        text-align: right;\n",
       "    }\n",
       "</style>\n",
       "<table border=\"1\" class=\"dataframe\">\n",
       "  <thead>\n",
       "    <tr style=\"text-align: right;\">\n",
       "      <th></th>\n",
       "      <th>smiles</th>\n",
       "      <th>value</th>\n",
       "      <th>source</th>\n",
       "      <th>name</th>\n",
       "      <th>units</th>\n",
       "      <th>params</th>\n",
       "    </tr>\n",
       "  </thead>\n",
       "  <tbody>\n",
       "    <tr>\n",
       "      <th>0</th>\n",
       "      <td>CC1(C)c2ccccc2-c2ccc(N(c3ccc4c(c3)C3(c5ccccc5-...</td>\n",
       "      <td>500.000</td>\n",
       "      <td>ECHA</td>\n",
       "      <td>Boiling point</td>\n",
       "      <td>°C</td>\n",
       "      <td>NaN</td>\n",
       "    </tr>\n",
       "    <tr>\n",
       "      <th>1</th>\n",
       "      <td>Cc1ccc(C=CCl)cc1</td>\n",
       "      <td>223.000</td>\n",
       "      <td>NaN</td>\n",
       "      <td>Boiling point</td>\n",
       "      <td>°C</td>\n",
       "      <td>NaN</td>\n",
       "    </tr>\n",
       "    <tr>\n",
       "      <th>2</th>\n",
       "      <td>COc1c(O[C@@H]2O[C@H](CO)[C@@H](O)[C@H](O)[C@H]...</td>\n",
       "      <td>929.624</td>\n",
       "      <td>NaN</td>\n",
       "      <td>Boiling point</td>\n",
       "      <td>°C</td>\n",
       "      <td>NaN</td>\n",
       "    </tr>\n",
       "    <tr>\n",
       "      <th>3</th>\n",
       "      <td>CC=Cc1ccc(OCC)cc1</td>\n",
       "      <td>242.000</td>\n",
       "      <td>NaN</td>\n",
       "      <td>Boiling point</td>\n",
       "      <td>°C</td>\n",
       "      <td>NaN</td>\n",
       "    </tr>\n",
       "    <tr>\n",
       "      <th>4</th>\n",
       "      <td>CCCCCCCCCCc1cccc2ccccc12</td>\n",
       "      <td>379.000</td>\n",
       "      <td>Handbook of chemistry and physics 2016</td>\n",
       "      <td>Boiling point</td>\n",
       "      <td>°C</td>\n",
       "      <td>NaN</td>\n",
       "    </tr>\n",
       "  </tbody>\n",
       "</table>\n",
       "</div>"
      ],
      "text/plain": [
       "                                              smiles    value  \\\n",
       "0  CC1(C)c2ccccc2-c2ccc(N(c3ccc4c(c3)C3(c5ccccc5-...  500.000   \n",
       "1                                   Cc1ccc(C=CCl)cc1  223.000   \n",
       "2  COc1c(O[C@@H]2O[C@H](CO)[C@@H](O)[C@H](O)[C@H]...  929.624   \n",
       "3                                  CC=Cc1ccc(OCC)cc1  242.000   \n",
       "4                           CCCCCCCCCCc1cccc2ccccc12  379.000   \n",
       "\n",
       "                                   source           name units  params  \n",
       "0                                    ECHA  Boiling point    °C     NaN  \n",
       "1                                     NaN  Boiling point    °C     NaN  \n",
       "2                                     NaN  Boiling point    °C     NaN  \n",
       "3                                     NaN  Boiling point    °C     NaN  \n",
       "4  Handbook of chemistry and physics 2016  Boiling point    °C     NaN  "
      ]
     },
     "execution_count": 149,
     "metadata": {},
     "output_type": "execute_result"
    }
   ],
   "source": [
    "data = pd.read_csv(config.DATA_PATH / 'boiling_points.csv')\n",
    "data.head()"
   ]
  },
  {
   "cell_type": "code",
   "execution_count": 150,
   "id": "6aa3f6b0",
   "metadata": {},
   "outputs": [
    {
     "data": {
      "text/html": [
       "<div>\n",
       "<style scoped>\n",
       "    .dataframe tbody tr th:only-of-type {\n",
       "        vertical-align: middle;\n",
       "    }\n",
       "\n",
       "    .dataframe tbody tr th {\n",
       "        vertical-align: top;\n",
       "    }\n",
       "\n",
       "    .dataframe thead th {\n",
       "        text-align: right;\n",
       "    }\n",
       "</style>\n",
       "<table border=\"1\" class=\"dataframe\">\n",
       "  <thead>\n",
       "    <tr style=\"text-align: right;\">\n",
       "      <th></th>\n",
       "      <th>value</th>\n",
       "      <th>params</th>\n",
       "    </tr>\n",
       "  </thead>\n",
       "  <tbody>\n",
       "    <tr>\n",
       "      <th>count</th>\n",
       "      <td>11699.000000</td>\n",
       "      <td>0.0</td>\n",
       "    </tr>\n",
       "    <tr>\n",
       "      <th>mean</th>\n",
       "      <td>225.675892</td>\n",
       "      <td>NaN</td>\n",
       "    </tr>\n",
       "    <tr>\n",
       "      <th>std</th>\n",
       "      <td>118.290078</td>\n",
       "      <td>NaN</td>\n",
       "    </tr>\n",
       "    <tr>\n",
       "      <th>min</th>\n",
       "      <td>-191.500000</td>\n",
       "      <td>NaN</td>\n",
       "    </tr>\n",
       "    <tr>\n",
       "      <th>25%</th>\n",
       "      <td>151.000000</td>\n",
       "      <td>NaN</td>\n",
       "    </tr>\n",
       "    <tr>\n",
       "      <th>50%</th>\n",
       "      <td>218.000000</td>\n",
       "      <td>NaN</td>\n",
       "    </tr>\n",
       "    <tr>\n",
       "      <th>75%</th>\n",
       "      <td>282.975000</td>\n",
       "      <td>NaN</td>\n",
       "    </tr>\n",
       "    <tr>\n",
       "      <th>max</th>\n",
       "      <td>2262.000000</td>\n",
       "      <td>NaN</td>\n",
       "    </tr>\n",
       "  </tbody>\n",
       "</table>\n",
       "</div>"
      ],
      "text/plain": [
       "              value  params\n",
       "count  11699.000000     0.0\n",
       "mean     225.675892     NaN\n",
       "std      118.290078     NaN\n",
       "min     -191.500000     NaN\n",
       "25%      151.000000     NaN\n",
       "50%      218.000000     NaN\n",
       "75%      282.975000     NaN\n",
       "max     2262.000000     NaN"
      ]
     },
     "execution_count": 150,
     "metadata": {},
     "output_type": "execute_result"
    }
   ],
   "source": [
    "data.describe()"
   ]
  },
  {
   "cell_type": "code",
   "execution_count": 166,
   "id": "b68a3e36",
   "metadata": {},
   "outputs": [
    {
     "data": {
      "text/html": [
       "<div>\n",
       "<style scoped>\n",
       "    .dataframe tbody tr th:only-of-type {\n",
       "        vertical-align: middle;\n",
       "    }\n",
       "\n",
       "    .dataframe tbody tr th {\n",
       "        vertical-align: top;\n",
       "    }\n",
       "\n",
       "    .dataframe thead th {\n",
       "        text-align: right;\n",
       "    }\n",
       "</style>\n",
       "<table border=\"1\" class=\"dataframe\">\n",
       "  <thead>\n",
       "    <tr style=\"text-align: right;\">\n",
       "      <th></th>\n",
       "      <th>index</th>\n",
       "      <th>smiles</th>\n",
       "      <th>value</th>\n",
       "      <th>source</th>\n",
       "      <th>name</th>\n",
       "      <th>units</th>\n",
       "      <th>params</th>\n",
       "    </tr>\n",
       "  </thead>\n",
       "  <tbody>\n",
       "    <tr>\n",
       "      <th>0</th>\n",
       "      <td>0</td>\n",
       "      <td>CC1(C)c2ccccc2-c2ccc(N(c3ccc4c(c3)C3(c5ccccc5-...</td>\n",
       "      <td>500.000</td>\n",
       "      <td>ECHA</td>\n",
       "      <td>Boiling point</td>\n",
       "      <td>°C</td>\n",
       "      <td>NaN</td>\n",
       "    </tr>\n",
       "    <tr>\n",
       "      <th>1</th>\n",
       "      <td>1</td>\n",
       "      <td>Cc1ccc(C=CCl)cc1</td>\n",
       "      <td>223.000</td>\n",
       "      <td>NaN</td>\n",
       "      <td>Boiling point</td>\n",
       "      <td>°C</td>\n",
       "      <td>NaN</td>\n",
       "    </tr>\n",
       "    <tr>\n",
       "      <th>2</th>\n",
       "      <td>2</td>\n",
       "      <td>COc1c(O[C@@H]2O[C@H](CO)[C@@H](O)[C@H](O)[C@H]...</td>\n",
       "      <td>929.624</td>\n",
       "      <td>NaN</td>\n",
       "      <td>Boiling point</td>\n",
       "      <td>°C</td>\n",
       "      <td>NaN</td>\n",
       "    </tr>\n",
       "    <tr>\n",
       "      <th>3</th>\n",
       "      <td>3</td>\n",
       "      <td>CC=Cc1ccc(OCC)cc1</td>\n",
       "      <td>242.000</td>\n",
       "      <td>NaN</td>\n",
       "      <td>Boiling point</td>\n",
       "      <td>°C</td>\n",
       "      <td>NaN</td>\n",
       "    </tr>\n",
       "    <tr>\n",
       "      <th>4</th>\n",
       "      <td>4</td>\n",
       "      <td>CCCCCCCCCCc1cccc2ccccc12</td>\n",
       "      <td>379.000</td>\n",
       "      <td>Handbook of chemistry and physics 2016</td>\n",
       "      <td>Boiling point</td>\n",
       "      <td>°C</td>\n",
       "      <td>NaN</td>\n",
       "    </tr>\n",
       "    <tr>\n",
       "      <th>...</th>\n",
       "      <td>...</td>\n",
       "      <td>...</td>\n",
       "      <td>...</td>\n",
       "      <td>...</td>\n",
       "      <td>...</td>\n",
       "      <td>...</td>\n",
       "      <td>...</td>\n",
       "    </tr>\n",
       "    <tr>\n",
       "      <th>11694</th>\n",
       "      <td>11694</td>\n",
       "      <td>Cc1cc(C)[nH]n1</td>\n",
       "      <td>220.000</td>\n",
       "      <td>ECHA</td>\n",
       "      <td>Boiling point</td>\n",
       "      <td>°C</td>\n",
       "      <td>NaN</td>\n",
       "    </tr>\n",
       "    <tr>\n",
       "      <th>11695</th>\n",
       "      <td>11695</td>\n",
       "      <td>Cc1ccc(N)nc1</td>\n",
       "      <td>213.300</td>\n",
       "      <td>ECHA</td>\n",
       "      <td>Boiling point</td>\n",
       "      <td>°C</td>\n",
       "      <td>NaN</td>\n",
       "    </tr>\n",
       "    <tr>\n",
       "      <th>11696</th>\n",
       "      <td>11696</td>\n",
       "      <td>Cc1ccc(O)c(O)c1</td>\n",
       "      <td>258.000</td>\n",
       "      <td>Handbook of chemistry and physics 2016</td>\n",
       "      <td>Boiling point</td>\n",
       "      <td>°C</td>\n",
       "      <td>NaN</td>\n",
       "    </tr>\n",
       "    <tr>\n",
       "      <th>11697</th>\n",
       "      <td>11697</td>\n",
       "      <td>Cc1ccsc1</td>\n",
       "      <td>115.400</td>\n",
       "      <td>Handbook of chemistry and physics 2016</td>\n",
       "      <td>Boiling point</td>\n",
       "      <td>°C</td>\n",
       "      <td>NaN</td>\n",
       "    </tr>\n",
       "    <tr>\n",
       "      <th>11698</th>\n",
       "      <td>11698</td>\n",
       "      <td>Cc1nccnc1C</td>\n",
       "      <td>161.000</td>\n",
       "      <td>Handbook of chemistry and physics 2016</td>\n",
       "      <td>Boiling point</td>\n",
       "      <td>°C</td>\n",
       "      <td>NaN</td>\n",
       "    </tr>\n",
       "  </tbody>\n",
       "</table>\n",
       "<p>11699 rows × 7 columns</p>\n",
       "</div>"
      ],
      "text/plain": [
       "       index                                             smiles    value  \\\n",
       "0          0  CC1(C)c2ccccc2-c2ccc(N(c3ccc4c(c3)C3(c5ccccc5-...  500.000   \n",
       "1          1                                   Cc1ccc(C=CCl)cc1  223.000   \n",
       "2          2  COc1c(O[C@@H]2O[C@H](CO)[C@@H](O)[C@H](O)[C@H]...  929.624   \n",
       "3          3                                  CC=Cc1ccc(OCC)cc1  242.000   \n",
       "4          4                           CCCCCCCCCCc1cccc2ccccc12  379.000   \n",
       "...      ...                                                ...      ...   \n",
       "11694  11694                                     Cc1cc(C)[nH]n1  220.000   \n",
       "11695  11695                                       Cc1ccc(N)nc1  213.300   \n",
       "11696  11696                                    Cc1ccc(O)c(O)c1  258.000   \n",
       "11697  11697                                           Cc1ccsc1  115.400   \n",
       "11698  11698                                         Cc1nccnc1C  161.000   \n",
       "\n",
       "                                       source           name units  params  \n",
       "0                                        ECHA  Boiling point    °C     NaN  \n",
       "1                                         NaN  Boiling point    °C     NaN  \n",
       "2                                         NaN  Boiling point    °C     NaN  \n",
       "3                                         NaN  Boiling point    °C     NaN  \n",
       "4      Handbook of chemistry and physics 2016  Boiling point    °C     NaN  \n",
       "...                                       ...            ...   ...     ...  \n",
       "11694                                    ECHA  Boiling point    °C     NaN  \n",
       "11695                                    ECHA  Boiling point    °C     NaN  \n",
       "11696  Handbook of chemistry and physics 2016  Boiling point    °C     NaN  \n",
       "11697  Handbook of chemistry and physics 2016  Boiling point    °C     NaN  \n",
       "11698  Handbook of chemistry and physics 2016  Boiling point    °C     NaN  \n",
       "\n",
       "[11699 rows x 7 columns]"
      ]
     },
     "execution_count": 166,
     "metadata": {},
     "output_type": "execute_result"
    }
   ],
   "source": [
    "data"
   ]
  },
  {
   "cell_type": "code",
   "execution_count": 151,
   "id": "84ad37f2",
   "metadata": {},
   "outputs": [
    {
     "name": "stdout",
     "output_type": "stream",
     "text": [
      "<class 'pandas.core.frame.DataFrame'>\n",
      "RangeIndex: 11699 entries, 0 to 11698\n",
      "Data columns (total 6 columns):\n",
      " #   Column  Non-Null Count  Dtype  \n",
      "---  ------  --------------  -----  \n",
      " 0   smiles  11699 non-null  object \n",
      " 1   value   11699 non-null  float64\n",
      " 2   source  7854 non-null   object \n",
      " 3   name    11699 non-null  object \n",
      " 4   units   11699 non-null  object \n",
      " 5   params  0 non-null      float64\n",
      "dtypes: float64(2), object(4)\n",
      "memory usage: 548.5+ KB\n"
     ]
    }
   ],
   "source": [
    "data.info()"
   ]
  },
  {
   "cell_type": "code",
   "execution_count": 152,
   "id": "917621f0",
   "metadata": {},
   "outputs": [
    {
     "name": "stdout",
     "output_type": "stream",
     "text": [
      "Пропуски в колонке smiles: 0\n",
      "Пропуски в колонке value: 0\n",
      "Пропуски в колонке source: 3845\n",
      "Пропуски в колонке name: 0\n",
      "Пропуски в колонке units: 0\n",
      "Пропуски в колонке params: 11699\n"
     ]
    }
   ],
   "source": [
    "for col in data.columns:\n",
    "    print(f'Пропуски в колонке {col}: {data[col].isna().sum()}')"
   ]
  },
  {
   "cell_type": "code",
   "execution_count": 153,
   "id": "a5a0bbbf",
   "metadata": {},
   "outputs": [
    {
     "data": {
      "text/plain": [
       "array(['Boiling point'], dtype=object)"
      ]
     },
     "execution_count": 153,
     "metadata": {},
     "output_type": "execute_result"
    }
   ],
   "source": [
    "data['name'].unique()"
   ]
  },
  {
   "cell_type": "code",
   "execution_count": 154,
   "id": "a704935e",
   "metadata": {},
   "outputs": [
    {
     "data": {
      "text/plain": [
       "array(['°C'], dtype=object)"
      ]
     },
     "execution_count": 154,
     "metadata": {},
     "output_type": "execute_result"
    }
   ],
   "source": [
    "data['units'].unique()"
   ]
  },
  {
   "cell_type": "code",
   "execution_count": 155,
   "id": "767e42d6",
   "metadata": {},
   "outputs": [
    {
     "data": {
      "text/plain": [
       "0"
      ]
     },
     "execution_count": 155,
     "metadata": {},
     "output_type": "execute_result"
    }
   ],
   "source": [
    "data['smiles'].duplicated().sum()"
   ]
  },
  {
   "cell_type": "code",
   "execution_count": 156,
   "id": "42994c66",
   "metadata": {},
   "outputs": [
    {
     "data": {
      "image/png": "[encoded data removed]",
      "text/plain": [
       "<Figure size 1000x500 with 2 Axes>"
      ]
     },
     "metadata": {},
     "output_type": "display_data"
    }
   ],
   "source": [
    "def plot_target(target: pd.Series):\n",
    "    fig, axes = plt.subplots(1, 2, figsize=(10, 5))\n",
    "    fig.add_subplot(sns.boxplot(target, ax=axes[0]))\n",
    "    fig.add_subplot(sns.histplot(target, ax=axes[1], kde=True, color='green'))\n",
    "\n",
    "\n",
    "plot_target(data['value'])"
   ]
  },
  {
   "cell_type": "markdown",
   "id": "09484ebc",
   "metadata": {},
   "source": [
    "На графиках можем увидеть большое количество выбросов за межквартильным размахом. Распределение очевидно стремится к форме негативного биномиального распределения за счёт высокого смещения. Дополнительно применим тест Колмогорова-Смирнова (Шапиро-Уилка стоит использовать на меньших выборках) и skewness/kurtosis на нормальность распределения."
   ]
  },
  {
   "cell_type": "code",
   "execution_count": 157,
   "id": "0a160e7f",
   "metadata": {},
   "outputs": [
    {
     "name": "stdout",
     "output_type": "stream",
     "text": [
      "КС-тест = 0.07513711891339248\n",
      "p-value = 6.915447579828496e-58\n",
      "Сдвиг: 2.077678742125133\n",
      "Эксцесс: 20.00814397753698\n"
     ]
    }
   ],
   "source": [
    "def ks_test(target: pd.Series):\n",
    "    mu, sigma = np.mean(target), np.std(data['value'], ddof=1)\n",
    "    stat, p_value = scipy.stats.kstest(target, 'norm', args=(mu, sigma))\n",
    "\n",
    "    skew = scipy.stats.skew(target)\n",
    "    kurtosis = scipy.stats.kurtosis(target)\n",
    "\n",
    "    print(f\"КС-тест = {stat}\")\n",
    "    print(f\"p-value = {p_value}\")\n",
    "    print(f\"Сдвиг: {skew}\")\n",
    "    print(f\"Эксцесс: {kurtosis}\")\n",
    "\n",
    "ks_test(data['value'])"
   ]
  },
  {
   "cell_type": "markdown",
   "id": "31e78142",
   "metadata": {},
   "source": [
    "Ожидаемо тест указывает на существенное отклонение от нормального распределения"
   ]
  },
  {
   "cell_type": "markdown",
   "id": "b74f9cd3",
   "metadata": {},
   "source": [
    "### Удаление выбросов с помощью правила 3 сигм (z-score)"
   ]
  },
  {
   "cell_type": "code",
   "execution_count": 158,
   "id": "aa504fdb",
   "metadata": {},
   "outputs": [
    {
     "data": {
      "image/png": "[encoded data removed]",
      "text/plain": [
       "<Figure size 1000x500 with 2 Axes>"
      ]
     },
     "metadata": {},
     "output_type": "display_data"
    }
   ],
   "source": [
    "threshold: float = 3.0 \n",
    "z_scores = scipy.stats.zscore(data['value'])\n",
    "outlier_mask = np.abs(z_scores) > threshold\n",
    "data_clean = data[~outlier_mask]\n",
    "\n",
    "plot_target(data_clean['value'])"
   ]
  },
  {
   "cell_type": "code",
   "execution_count": 159,
   "id": "962e6165",
   "metadata": {},
   "outputs": [
    {
     "name": "stdout",
     "output_type": "stream",
     "text": [
      "КС-тест = 0.0680691830632002\n",
      "p-value = 5.793634112706241e-47\n",
      "Сдвиг: 0.3563562276942144\n",
      "Эксцесс: 0.517271389808335\n"
     ]
    }
   ],
   "source": [
    "ks_test(data_clean['value'])"
   ]
  },
  {
   "cell_type": "markdown",
   "id": "70f415ee",
   "metadata": {},
   "source": [
    "Видим значительное улучшение как визуальной формы распределения, так и статистических тестов. КС-тест всё ещё показывает значительное отклонение от нормальности, возможно, статистически будет верно использовать в качестве \"отсеивания\" межквартильный размах, но стоит сохранить большее количество данных для обучения моделей"
   ]
  },
  {
   "cell_type": "code",
   "execution_count": 160,
   "id": "f05f9b7a",
   "metadata": {},
   "outputs": [
    {
     "name": "stdout",
     "output_type": "stream",
     "text": [
      "Итоговая разница размерностей: 152\n"
     ]
    }
   ],
   "source": [
    "print(f'Итоговая разница размерностей: {data.shape[0] - data_clean.shape[0]}')"
   ]
  },
  {
   "cell_type": "markdown",
   "id": "463fa4f1",
   "metadata": {},
   "source": [
    "# Разделение данных"
   ]
  },
  {
   "cell_type": "markdown",
   "id": "912102df",
   "metadata": {},
   "source": [
    "В качестве средства для разделения по train-test выборкам будем использовать [DataSail](https://github.com/kalininalab/DataSAIL) в соотношении 80/20"
   ]
  },
  {
   "cell_type": "code",
   "execution_count": 173,
   "id": "d0599ba0",
   "metadata": {},
   "outputs": [
    {
     "ename": "",
     "evalue": "",
     "output_type": "error",
     "traceback": [
      "\u001b[1;31mThe Kernel crashed while executing code in the current cell or a previous cell. \n",
      "\u001b[1;31mPlease review the code in the cell(s) to identify a possible cause of the failure. \n",
      "\u001b[1;31mClick <a href='https://aka.ms/vscodeJupyterKernelCrash'>here</a> for more info. \n",
      "\u001b[1;31mView Jupyter <a href='command:jupyter.viewOutput'>log</a> for further details."
     ]
    }
   ],
   "source": [
    "df_index = data_clean.reset_index()\n",
    "e_splits, _, _ = datasail(\n",
    "    techniques=[\"C1e\"],\n",
    "    splits=[8, 2],\n",
    "    names=[\"train\",\"test\"],\n",
    "    runs=5,\n",
    "    solver=\"SCIP\",\n",
    "    e_type=\"M\",\n",
    "    threads=config.N_THREADS,\n",
    "    e_data=dict(df_index[[\"index\", \"smiles\"]].values.tolist())\n",
    ")"
   ]
  },
  {
   "cell_type": "code",
   "execution_count": null,
   "id": "d50bbd99",
   "metadata": {},
   "outputs": [],
   "source": []
  }
 ],
 "metadata": {
  "kernelspec": {
   "display_name": "Python 3",
   "language": "python",
   "name": "python3"
  },
  "language_info": {
   "codemirror_mode": {
    "name": "ipython",
    "version": 3
   },
   "file_extension": ".py",
   "mimetype": "text/x-python",
   "name": "python",
   "nbconvert_exporter": "python",
   "pygments_lexer": "ipython3",
   "version": "3.11.13"
  }
 },
 "nbformat": 4,
 "nbformat_minor": 5
}
