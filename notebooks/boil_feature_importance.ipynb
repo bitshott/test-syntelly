{
 "cells": [
  {
   "cell_type": "code",
   "execution_count": 9,
   "id": "862aa32d",
   "metadata": {},
   "outputs": [],
   "source": [
    "import joblib\n",
    "from sklearn.ensemble import RandomForestRegressor\n",
    "import sys\n",
    "sys.path.append('../')\n",
    "\n",
    "from config.experiment_config import config\n",
    "\n"
   ]
  },
  {
   "cell_type": "code",
   "execution_count": 10,
   "id": "833a74fb",
   "metadata": {},
   "outputs": [],
   "source": [
    "model = joblib.load(config.MODEL_PATH / 'boiling_points_models' / 'v1' / 'boiling_points_model.pkl')"
   ]
  },
  {
   "cell_type": "code",
   "execution_count": 14,
   "id": "21023934",
   "metadata": {},
   "outputs": [],
   "source": [
    "dataset = config.DATA_PATH / 'processed' / 'boiling_points_processed.pkl'\n",
    "dataset = joblib.load(dataset)"
   ]
  },
  {
   "cell_type": "code",
   "execution_count": null,
   "id": "44bc3e9e",
   "metadata": {},
   "outputs": [],
   "source": [
    "importances = model.feature_importances_\n",
    "threshold = 0.01\n",
    "selected_features = dataset['X'].columns[importances > threshold]\n",
    "to_drop = dataset['X'].columns[importances < threshold]"
   ]
  },
  {
   "cell_type": "code",
   "execution_count": null,
   "id": "df5a31b1",
   "metadata": {},
   "outputs": [],
   "source": []
  },
  {
   "cell_type": "code",
   "execution_count": null,
   "id": "da2cb1fb",
   "metadata": {},
   "outputs": [],
   "source": []
  }
 ],
 "metadata": {
  "kernelspec": {
   "display_name": "Python 3 (ipykernel)",
   "language": "python",
   "name": "python3"
  },
  "language_info": {
   "codemirror_mode": {
    "name": "ipython",
    "version": 3
   },
   "file_extension": ".py",
   "mimetype": "text/x-python",
   "name": "python",
   "nbconvert_exporter": "python",
   "pygments_lexer": "ipython3",
   "version": "3.11.13"
  }
 },
 "nbformat": 4,
 "nbformat_minor": 5
}
